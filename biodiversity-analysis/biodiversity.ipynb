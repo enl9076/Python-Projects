{
 "cells": [
  {
   "cell_type": "markdown",
   "metadata": {},
   "source": [
    "# Biodiversity Analysis\n",
    "\n",
    "This is a simple practice project using data from Codecademy.\n",
    "\n",
    "## Step 1: Import required dependencies, load data, and examine a few observations and the data types"
   ]
  },
  {
   "cell_type": "code",
   "execution_count": null,
   "metadata": {},
   "outputs": [],
   "source": [
    "import pandas as pd\n",
    "import numpy as np\n",
    "import matplotlib.pyplot as plt\n",
    "\n",
    "species_info = pd.read_csv('species_info.csv')\n",
    "species_obs = pd.read_csv('observations.csv')\n",
    "\n",
    "#print(species_info.info())\n",
    "#print(species_obs.info())\n",
    "\n",
    "species_obs.dtypes"
   ]
  },
  {
   "cell_type": "markdown",
   "metadata": {},
   "source": [
    "### Information about the dataset\n",
    "\n",
    "* **species_info** has four columns: Category (i.e., species types), Scientific Name, Common Names, and Conservation Status\n",
    "  * All variables are categorical string objects\n",
    "  * Category has 7 unique values\n",
    "  * Conservation Status has 4 unique values\n",
    "* **species_obs** has three columns: Scientific Name, Park Name, and Number of Observations\n",
    "  * The first two variables are categorical string objects and the third is an integer value\n",
    "  * Park name has 4 unique values"
   ]
  },
  {
   "cell_type": "code",
   "execution_count": null,
   "metadata": {},
   "outputs": [],
   "source": [
    "columns = species_info.columns\n",
    "for column in columns:\n",
    "    print(column, species_info[column].unique(), species_info[column].nunique())"
   ]
  },
  {
   "cell_type": "code",
   "execution_count": null,
   "metadata": {},
   "outputs": [],
   "source": [
    "obs_columns = species_obs.columns\n",
    "for column in obs_columns:\n",
    "    print(column, species_obs[column].unique(), species_obs[column].nunique())"
   ]
  },
  {
   "cell_type": "markdown",
   "metadata": {},
   "source": [
    "### Then clean up some variables and create a third dataset by merging the original two"
   ]
  },
  {
   "cell_type": "code",
   "execution_count": null,
   "metadata": {},
   "outputs": [],
   "source": [
    "# Explicitly make conservation status a categorical variable\n",
    "species_info['conservation_status'] = pd.Categorical(species_info['conservation_status'],[\"In Recovery\", \"Species of Concern\", \"Threatened\", \"Endangered\"], ordered=True)"
   ]
  },
  {
   "cell_type": "code",
   "execution_count": null,
   "metadata": {},
   "outputs": [],
   "source": [
    "# Merge datasets\n",
    "species = pd.merge(species_info, species_obs, on='scientific_name')\n",
    "species.head()"
   ]
  },
  {
   "cell_type": "markdown",
   "metadata": {},
   "source": [
    "## Summary Statistics"
   ]
  },
  {
   "cell_type": "code",
   "execution_count": 52,
   "metadata": {},
   "outputs": [
    {
     "name": "stdout",
     "output_type": "stream",
     "text": [
      "-------------Species-------------------\n",
      "Vascular Plant       76.751374\n",
      "Bird                  8.945742\n",
      "Nonvascular Plant     5.717720\n",
      "Mammal                3.674451\n",
      "Fish                  2.180632\n",
      "Amphibian             1.373626\n",
      "Reptile               1.356456\n",
      "Name: category, dtype: float64\n",
      "-------------Conservation Status-------------------\n",
      "Species of Concern    84.293194\n",
      "Endangered             8.376963\n",
      "Threatened             5.235602\n",
      "In Recovery            2.094241\n",
      "Name: conservation_status, dtype: float64\n",
      "-------------Parks-------------------\n",
      "Great Smoky Mountains National Park    25.0\n",
      "Yosemite National Park                 25.0\n",
      "Bryce National Park                    25.0\n",
      "Yellowstone National Park              25.0\n",
      "Name: park_name, dtype: float64\n"
     ]
    }
   ],
   "source": [
    "species_props = species_info['category'].value_counts(normalize = True)\n",
    "cons_status_props = species_info['conservation_status'].value_counts(normalize = True)\n",
    "park_props = species_obs['park_name'].value_counts(normalize = True)\n",
    "print(\"-------------Species-------------------\")\n",
    "print(species_props*100)\n",
    "print(\"-------------Conservation Status-------------------\")\n",
    "print(cons_status_props*100)\n",
    "print(\"-------------Parks-------------------\")\n",
    "print(park_props*100)"
   ]
  },
  {
   "cell_type": "code",
   "execution_count": 66,
   "metadata": {},
   "outputs": [
    {
     "data": {
      "text/plain": [
       "park_name\n",
       "Bryce National Park                    17.377688\n",
       "Great Smoky Mountains National Park    13.027270\n",
       "Yellowstone National Park              43.549794\n",
       "Yosemite National Park                 26.045248\n",
       "Name: observations, dtype: float64"
      ]
     },
     "execution_count": 66,
     "metadata": {},
     "output_type": "execute_result"
    }
   ],
   "source": [
    "species_obs['observations'].groupby(species_obs['park_name']).sum()/species_obs['observations'].sum()*100"
   ]
  },
  {
   "cell_type": "code",
   "execution_count": 53,
   "metadata": {},
   "outputs": [
    {
     "data": {
      "text/plain": [
       "count    23296.000000\n",
       "mean       142.287904\n",
       "std         69.890532\n",
       "min          9.000000\n",
       "25%         86.000000\n",
       "50%        124.000000\n",
       "75%        195.000000\n",
       "max        321.000000\n",
       "Name: observations, dtype: float64"
      ]
     },
     "execution_count": 53,
     "metadata": {},
     "output_type": "execute_result"
    }
   ],
   "source": [
    "species_obs['observations'].describe()"
   ]
  },
  {
   "cell_type": "code",
   "execution_count": 68,
   "metadata": {},
   "outputs": [
    {
     "data": {
      "text/html": [
       "<div>\n",
       "<style scoped>\n",
       "    .dataframe tbody tr th:only-of-type {\n",
       "        vertical-align: middle;\n",
       "    }\n",
       "\n",
       "    .dataframe tbody tr th {\n",
       "        vertical-align: top;\n",
       "    }\n",
       "\n",
       "    .dataframe thead th {\n",
       "        text-align: right;\n",
       "    }\n",
       "</style>\n",
       "<table border=\"1\" class=\"dataframe\">\n",
       "  <thead>\n",
       "    <tr style=\"text-align: right;\">\n",
       "      <th>conservation_status</th>\n",
       "      <th>In Recovery</th>\n",
       "      <th>Species of Concern</th>\n",
       "      <th>Threatened</th>\n",
       "      <th>Endangered</th>\n",
       "    </tr>\n",
       "    <tr>\n",
       "      <th>category</th>\n",
       "      <th></th>\n",
       "      <th></th>\n",
       "      <th></th>\n",
       "      <th></th>\n",
       "    </tr>\n",
       "  </thead>\n",
       "  <tbody>\n",
       "    <tr>\n",
       "      <th>Amphibian</th>\n",
       "      <td>0</td>\n",
       "      <td>16</td>\n",
       "      <td>8</td>\n",
       "      <td>4</td>\n",
       "    </tr>\n",
       "    <tr>\n",
       "      <th>Bird</th>\n",
       "      <td>12</td>\n",
       "      <td>320</td>\n",
       "      <td>0</td>\n",
       "      <td>16</td>\n",
       "    </tr>\n",
       "    <tr>\n",
       "      <th>Fish</th>\n",
       "      <td>0</td>\n",
       "      <td>16</td>\n",
       "      <td>20</td>\n",
       "      <td>12</td>\n",
       "    </tr>\n",
       "    <tr>\n",
       "      <th>Mammal</th>\n",
       "      <td>12</td>\n",
       "      <td>168</td>\n",
       "      <td>8</td>\n",
       "      <td>44</td>\n",
       "    </tr>\n",
       "    <tr>\n",
       "      <th>Nonvascular Plant</th>\n",
       "      <td>0</td>\n",
       "      <td>20</td>\n",
       "      <td>0</td>\n",
       "      <td>0</td>\n",
       "    </tr>\n",
       "    <tr>\n",
       "      <th>Reptile</th>\n",
       "      <td>0</td>\n",
       "      <td>20</td>\n",
       "      <td>0</td>\n",
       "      <td>0</td>\n",
       "    </tr>\n",
       "    <tr>\n",
       "      <th>Vascular Plant</th>\n",
       "      <td>0</td>\n",
       "      <td>172</td>\n",
       "      <td>8</td>\n",
       "      <td>4</td>\n",
       "    </tr>\n",
       "  </tbody>\n",
       "</table>\n",
       "</div>"
      ],
      "text/plain": [
       "conservation_status  In Recovery  Species of Concern  Threatened  Endangered\n",
       "category                                                                    \n",
       "Amphibian                      0                  16           8           4\n",
       "Bird                          12                 320           0          16\n",
       "Fish                           0                  16          20          12\n",
       "Mammal                        12                 168           8          44\n",
       "Nonvascular Plant              0                  20           0           0\n",
       "Reptile                        0                  20           0           0\n",
       "Vascular Plant                 0                 172           8           4"
      ]
     },
     "execution_count": 68,
     "metadata": {},
     "output_type": "execute_result"
    }
   ],
   "source": [
    "pd.crosstab(species['category'], species['conservation_status'])"
   ]
  },
  {
   "cell_type": "markdown",
   "metadata": {},
   "source": [
    "## Visualize"
   ]
  },
  {
   "cell_type": "code",
   "execution_count": 60,
   "metadata": {},
   "outputs": [
    {
     "data": {
      "text/plain": [
       "<AxesSubplot:xlabel='conservation_status'>"
      ]
     },
     "execution_count": 60,
     "metadata": {},
     "output_type": "execute_result"
    },
    {
     "data": {
      "image/png": "[encoded data removed]",
      "text/plain": [
       "<Figure size 432x288 with 1 Axes>"
      ]
     },
     "metadata": {
      "needs_background": "light"
     },
     "output_type": "display_data"
    }
   ],
   "source": [
    "species['observations'].groupby(species['conservation_status']).mean().plot.bar()"
   ]
  },
  {
   "cell_type": "code",
   "execution_count": 63,
   "metadata": {},
   "outputs": [
    {
     "data": {
      "image/png": "[encoded data removed]",
      "text/plain": [
       "<Figure size 432x288 with 1 Axes>"
      ]
     },
     "metadata": {
      "needs_background": "light"
     },
     "output_type": "display_data"
    }
   ],
   "source": [
    "plt.bar(species['park_name'], species['observations'])\n",
    "plt.xticks(rotation=45)\n",
    "plt.xlabel('Park Name')\n",
    "plt.ylabel('Number of Observations')\n",
    "plt.show()"
   ]
  },
  {
   "cell_type": "code",
   "execution_count": null,
   "metadata": {},
   "outputs": [],
   "source": [
    "cat_means = species['observations'].groupby(species['category']).mean()\n",
    "plt.bar(cat_means.index, cat_means)\n",
    "plt.title(\"Number of Sightings by Species Type\")\n",
    "plt.xlabel(\"Species\")\n",
    "plt.ylabel(\"Number of Observations\")\n",
    "plt.xticks(rotation=45)\n",
    "plt.show()"
   ]
  },
  {
   "cell_type": "code",
   "execution_count": 58,
   "metadata": {},
   "outputs": [
    {
     "data": {
      "image/png": "[encoded data removed]",
      "text/plain": [
       "<Figure size 432x288 with 1 Axes>"
      ]
     },
     "metadata": {
      "needs_background": "light"
     },
     "output_type": "display_data"
    }
   ],
   "source": [
    "plt.hist(species['observations'], bins=40)\n",
    "plt.title(\"Number of sightings\")\n",
    "plt.show()"
   ]
  }
 ],
 "metadata": {
  "interpreter": {
   "hash": "4b4b638602aa57b6ed9a06a47ea6c485d55d9a954cf88c5085a1d03239d61f45"
  },
  "kernelspec": {
   "display_name": "Python 3.10.0 64-bit",
   "name": "python3"
  },
  "language_info": {
   "codemirror_mode": {
    "name": "ipython",
    "version": 3
   },
   "file_extension": ".py",
   "mimetype": "text/x-python",
   "name": "python",
   "nbconvert_exporter": "python",
   "pygments_lexer": "ipython3",
   "version": "3.10.0"
  }
 },
 "nbformat": 4,
 "nbformat_minor": 4
}
